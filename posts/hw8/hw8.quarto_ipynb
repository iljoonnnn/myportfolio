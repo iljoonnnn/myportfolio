{
  "cells": [
    {
      "cell_type": "markdown",
      "metadata": {},
      "source": [
        "---\n",
        "title: \"LS Bigdata School Homework 8\"\n",
        "author: iljoon\n",
        "date: \"2024-09-10\"\n",
        "categories: [homework]\n",
        "jupyter: python3\n",
        "---\n",
        "\n",
        "\n",
        "# 로지스틱 회귀 예제"
      ],
      "id": "fa841685"
    },
    {
      "cell_type": "code",
      "metadata": {},
      "source": [
        "import numpy as np\n",
        "import pandas as pd\n",
        "import statsmodels.api as sm\n",
        "\n",
        "'''\n",
        "종속변수: 백혈병 세포 관측 불가 여부 (REMISS), 1이면 관측 안됨을 의미\n",
        "\n",
        "독립변수:\n",
        "\n",
        "골수의 세포성 (CELL)\n",
        "골수편의 백혈구 비율 (SMEAR)\n",
        "골수의 백혈병 세포 침투 비율 (INFIL)\n",
        "골수 백혈병 세포의 라벨링 인덱스 (LI)\n",
        "말초혈액의 백혈병 세포 수 (BLAST)\n",
        "치료 시작 전 최고 체온 (TEMP)\n",
        "'''"
      ],
      "id": "338c7357",
      "execution_count": null,
      "outputs": []
    },
    {
      "cell_type": "markdown",
      "metadata": {},
      "source": [
        "# 문제 1. 데이터를 로드하고, 로지스틱 회귀모델을 적합하고, 회귀 표를 작성하세요."
      ],
      "id": "88bdd8aa"
    },
    {
      "cell_type": "code",
      "metadata": {},
      "source": [
        "# 데이터 불러오기\n",
        "df = pd.read_csv('../data/leukemia_remission.txt', sep='\\t')\n",
        "df\n",
        "\n",
        "# 로지스틱 회귀모델 적합.\n",
        "model = sm.formula.logit(\"REMISS ~ CELL + SMEAR + INFIL + LI + BLAST + TEMP\", data=df).fit()\n",
        "\n",
        "# 회귀 표 출력\n",
        "print(model.summary())"
      ],
      "id": "cd1c2013",
      "execution_count": null,
      "outputs": []
    },
    {
      "cell_type": "markdown",
      "metadata": {},
      "source": [
        "# 문제 2. 해당 모델은 통계적으로 유의한가요? 그 이유를 검정통계량를 사용해서 설명하시오."
      ],
      "id": "53a60f03"
    },
    {
      "cell_type": "code",
      "metadata": {},
      "source": [
        "'''\n",
        "유의수준 5%일 때 유의하다.\n",
        "LLR p-value: 0.04670 이기 때문에.\n",
        "'''"
      ],
      "id": "e97add79",
      "execution_count": null,
      "outputs": []
    },
    {
      "cell_type": "markdown",
      "metadata": {},
      "source": [
        "# 문제 3. 유의수준이 0.2를 기준으로 통계적으로 유의한 변수는 몇개이며, 어느 변수 인가요?"
      ],
      "id": "9fa81687"
    },
    {
      "cell_type": "code",
      "metadata": {},
      "source": [
        "'''\n",
        "유의수준 0.2 일 때 유의한 변수는 LI, TEMP\n",
        "'''"
      ],
      "id": "aa86d903",
      "execution_count": null,
      "outputs": []
    },
    {
      "cell_type": "markdown",
      "metadata": {},
      "source": [
        "# 문제 4. 다음 환자에 대한 오즈는 얼마인가요?"
      ],
      "id": "dce0916a"
    },
    {
      "cell_type": "code",
      "metadata": {},
      "source": [
        "# CELL (골수의 세포성): 65%\n",
        "# SMEAR (골수편의 백혈구 비율): 45%\n",
        "# INFIL (골수의 백혈병 세포 침투 비율): 55%\n",
        "# LI (골수 백혈병 세포의 라벨링 인덱스): 1.2\n",
        "# BLAST (말초혈액의 백혈병 세포 수): 1.1세포/μL\n",
        "# TEMP (치료 시작 전 최고 체온): 0.9\n",
        "\n",
        "## 로그 오즈 식\n",
        "log_odds = 64.2581 + 30.8301 * 0.65 + 24.6863 * 0.45 -24.9745 * 0.55 + 4.3605 * 1.2 -0.0115 * 1.1 -100.1734 * 0.9\n",
        "log_odds # -3.2655849999999873\n",
        "\n",
        "## 오즈 식\n",
        "my_odds = np.exp(log_odds)\n",
        "my_odds # 0.03817459641135519"
      ],
      "id": "e3b468f4",
      "execution_count": null,
      "outputs": []
    },
    {
      "cell_type": "markdown",
      "metadata": {},
      "source": [
        "# 문제 5. 위 환자의 혈액에서 백혈병 세포가 관측되지 않은 확률은 얼마인가요?"
      ],
      "id": "536a09bd"
    },
    {
      "cell_type": "code",
      "metadata": {},
      "source": [
        "my_odds / (my_odds+1)\n",
        "# 0.03677088280074742\n",
        "# 3.6%"
      ],
      "id": "f4f2d223",
      "execution_count": null,
      "outputs": []
    },
    {
      "cell_type": "markdown",
      "metadata": {},
      "source": [
        "# 문제 6. TEMP 변수의 계수는 얼마이며, 해당 계수를 사용해서 TEMP 변수가 백혈병 치료에 대한 영향을 설명하시오."
      ],
      "id": "f0b70a1c"
    },
    {
      "cell_type": "code",
      "metadata": {},
      "source": [
        "'''\n",
        "TEMP가 0.01 오르면 로그 오즈가 -1.001734 만큼 증가한다.(사실 떨어지는거.)\n",
        "이는 TEMP가 0.01 증가할 때마다 \"백혈병 세포가 관측 되지 않는 것\" 대한 오즈가 약 63.27% 떨어진다는 것이다.\n",
        "'''\n",
        "np.exp(-1.001734) # 0.3672420909627784\n",
        "(0.3672420909627784 - 1) * 100"
      ],
      "id": "a8cd8c5f",
      "execution_count": null,
      "outputs": []
    },
    {
      "cell_type": "markdown",
      "metadata": {},
      "source": [
        "# 문제 7. CELL 변수의 99% 오즈비에 대한 신뢰구간을 구하시오."
      ],
      "id": "a4be2579"
    },
    {
      "cell_type": "code",
      "metadata": {},
      "source": [
        "# 모르겠다!!"
      ],
      "id": "22cb0e81",
      "execution_count": null,
      "outputs": []
    },
    {
      "cell_type": "markdown",
      "metadata": {},
      "source": [
        "# 문제 8. 주어진 데이터에 대하여 로지스틱 회귀 모델의 예측 확률을 구한 후, 50% 이상인 경우 1로 처리하여, 혼동 행렬를 구하시오."
      ],
      "id": "48a042af"
    },
    {
      "cell_type": "code",
      "metadata": {},
      "source": [
        "df = df.assign(odds = \n",
        "    np.exp(\n",
        "      64.2581 + 30.8301 * df['CELL'] + 24.6863 * df['SMEAR'] +\n",
        "      (-24.9745) * df['INFIL'] + 4.3605 * df['LI'] +\n",
        "      (-0.0115) * df['BLAST'] + (-100.1734) * df['TEMP']\n",
        "    ))\n",
        "df = df.assign(remiss_probability =\n",
        "    df['odds'] / (df['odds'] + 1))\n",
        "df = df.assign(classification =\n",
        "    np.where(df['remiss_probability'] >= 0.5,\n",
        "             1, 0))"
      ],
      "id": "5b2adb70",
      "execution_count": null,
      "outputs": []
    },
    {
      "cell_type": "markdown",
      "metadata": {},
      "source": [
        "# 문제 9. 해당 모델의 Accuracy는 얼마인가요?"
      ],
      "id": "8b8f1029"
    },
    {
      "cell_type": "code",
      "metadata": {},
      "source": [
        "mymatrix = np.matrix([[\n",
        "    ((df['classification'] == 1) & (df['REMISS'] == 1)).sum(),\n",
        "    ((df['classification'] == 1) & (df['REMISS'] == 0)).sum()\n",
        "    ],\n",
        "    [\n",
        "    ((df['classification'] == 0) & (df['REMISS'] == 1)).sum(),\n",
        "    ((df['classification'] == 0) & (df['REMISS'] == 0)).sum()\n",
        "    ]])\n",
        "\n",
        "# 올바르게 예측한 샘플 개수\n",
        "mymatrix[0, 0] + mymatrix[1, 1] # 20\n",
        "\n",
        "# 전체 샘플 개수\n",
        "mymatrix[0, 0] + mymatrix[0, 1] + mymatrix[1, 0] + mymatrix[1, 1] # 27\n",
        "\n",
        "20/27 # Accuracy = 0.74"
      ],
      "id": "177f2fe4",
      "execution_count": null,
      "outputs": []
    },
    {
      "cell_type": "markdown",
      "metadata": {},
      "source": [
        "# 문제 10. 해당 모델의 F1 Score를 구하세요."
      ],
      "id": "f2b38cbd"
    },
    {
      "cell_type": "code",
      "metadata": {},
      "source": [
        "precision = mymatrix[0, 0] / (mymatrix[0, 0] + mymatrix[0, 1]) # 0.625\n",
        "recall = mymatrix[0, 0] / (mymatrix[0, 0] + mymatrix[1, 0]) # 0.555\n",
        "\n",
        "2 * (precision * recall) / (precision + recall) # 0.588"
      ],
      "id": "3a4a47d7",
      "execution_count": null,
      "outputs": []
    }
  ],
  "metadata": {
    "kernelspec": {
      "name": "python3",
      "language": "python",
      "display_name": "Python 3 (ipykernel)",
      "path": "C:\\DS\\Python\\Python312\\share\\jupyter\\kernels\\python3"
    }
  },
  "nbformat": 4,
  "nbformat_minor": 5
}